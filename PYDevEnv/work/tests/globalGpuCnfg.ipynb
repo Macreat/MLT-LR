{
  "cells": [
    {
      "cell_type": "markdown",
      "metadata": {},
      "source": [
        "# CONVOLUTIONAL NEURAL NETWORK NB (CNN-First on DL)  "
      ]
    },
    {
      "cell_type": "markdown",
      "metadata": {},
      "source": [
        "## libraries and env configuration \n"
      ]
    },
    {
      "cell_type": "code",
      "execution_count": 2,
      "metadata": {},
      "outputs": [],
      "source": [
        "#packages from tensor flow\n",
        "import tensorflow as Tf\n",
        "\n",
        "# tensor flow for optimizing the model \n",
        "\n",
        "\n",
        "# basis packages \n",
        "import os as os \n",
        "import matplotlib.pyplot as plt\n",
        "import numpy as np\n",
        "import scipy \n",
        "import ssl"
      ]
    },
    {
      "cell_type": "code",
      "execution_count": 12,
      "metadata": {},
      "outputs": [
        {
          "name": "stdout",
          "output_type": "stream",
          "text": [
            "Python: 3.9.13 (tags/v3.9.13:6de2ca5, May 17 2022, 16:36:42) [MSC v.1929 64 bit (AMD64)]\n",
            "TensorFlow version: 2.10.0\n",
            "TF built with CUDA: True\n",
            "\n",
            "CUDA_VISIBLE_DEVICES: No establecido\n",
            "\n",
            "GPUs físicas encontradas: 1\n",
            "  GPU 0: PhysicalDevice(name='/physical_device:GPU:0', device_type='GPU')\n",
            "\n",
            "Memory growth activado para PhysicalDevice(name='/physical_device:GPU:0', device_type='GPU')\n",
            "\n",
            "Información del build de TF:\n",
            "  cuda_version: 64_112\n",
            "  cudnn_version: 64_8\n",
            "\n",
            "Ejecutando prueba en GPU...\n",
            "✅ Multiplicación de matrices completada en GPU\n",
            "   Shape del resultado: (1000, 1000)\n"
          ]
        }
      ],
      "source": [
        "# Comprobación y configuración segura de GPU para TensorFlow (en español)\n",
        "# Esta celda: lista GPUs, activa memory growth, muestra info de build y hace una prueba rápida\n",
        "import sys\n",
        "import numpy as np\n",
        "import tensorflow as Tf\n",
        "import os\n",
        "\n",
        "# Información del entorno Python y TensorFlow\n",
        "print('Python:', sys.version.splitlines()[0])\n",
        "print('TensorFlow version:', Tf.__version__)\n",
        "print('TF built with CUDA:', Tf.test.is_built_with_cuda())\n",
        "\n",
        "# Verificar variables de entorno CUDA (útil para diagnóstico)\n",
        "cuda_visible = os.environ.get('CUDA_VISIBLE_DEVICES', 'No establecido')\n",
        "print('\\nCUDA_VISIBLE_DEVICES:', cuda_visible)\n",
        "\n",
        "# Listar GPUs físicas\n",
        "gpus = Tf.config.list_physical_devices('GPU')\n",
        "print('\\nGPUs físicas encontradas:', len(gpus))\n",
        "for i, g in enumerate(gpus):\n",
        "    print(f'  GPU {i}:', g)\n",
        "\n",
        "if len(gpus) == 0:\n",
        "    print('\\nNo se detectaron GPUs en TensorFlow. Verifica:')\n",
        "    print('1. nvidia-smi muestra la GPU')\n",
        "    print('2. Las DLLs de CUDA están en el PATH')\n",
        "    print('3. La versión de CUDA es compatible con TF 2.10')\n",
        "\n",
        "# Activar memory growth (debe hacerse antes de crear tensores)\n",
        "for gpu in gpus:\n",
        "    try:\n",
        "        Tf.config.experimental.set_memory_growth(gpu, True)\n",
        "        print('\\nMemory growth activado para', gpu)\n",
        "    except Exception as e:\n",
        "        print('\\nNo se pudo activar memory growth para', gpu, '->', e)\n",
        "\n",
        "# Mostrar información del build (CUDA/cuDNN si está disponible)\n",
        "try:\n",
        "    info = Tf.sysconfig.get_build_info()\n",
        "    print('\\nInformación del build de TF:')\n",
        "    print('  cuda_version:', info.get('cuda_version', 'No disponible'))\n",
        "    print('  cudnn_version:', info.get('cudnn_version', 'No disponible'))\n",
        "except Exception:\n",
        "    pass\n",
        "\n",
        "# Prueba rápida: multiplicación pequeña en GPU:0 (si existe)\n",
        "if len(gpus) > 0:\n",
        "    try:\n",
        "        with Tf.device('/GPU:0'):\n",
        "            print('\\nEjecutando prueba en GPU...')\n",
        "            a = Tf.constant(np.random.randn(1000, 1000), dtype=Tf.float32)\n",
        "            b = Tf.constant(np.random.randn(1000, 1000), dtype=Tf.float32)\n",
        "            c = Tf.matmul(a, b)\n",
        "            # Forzar ejecución\n",
        "            _ = c.numpy()\n",
        "        print('✅ Multiplicación de matrices completada en GPU')\n",
        "        print('   Shape del resultado:', c.shape)\n",
        "    except Exception as e:\n",
        "        print('❌ La prueba GPU falló:', e)\n",
        "else:\n",
        "    print('\\nSe omite la prueba GPU porque no se detectó GPU.')"
      ]
    },
    {
      "cell_type": "code",
      "execution_count": 13,
      "metadata": {},
      "outputs": [],
      "source": [
        "os.environ[\"TF_CPP_MIN_LOG_LEVEL\"] = '2' # Suppress TensorFlow logging (1)\t"
      ]
    },
    {
      "cell_type": "code",
      "execution_count": 14,
      "metadata": {},
      "outputs": [
        {
          "name": "stdout",
          "output_type": "stream",
          "text": [
            "Python: 3.9.13 (tags/v3.9.13:6de2ca5, May 17 2022, 16:36:42) [MSC v.1929 64 bit (AMD64)]\n",
            "TensorFlow version: 2.10.0\n",
            "TF built with CUDA: True\n",
            "\n",
            "CUDA_VISIBLE_DEVICES: No establecido\n",
            "\n",
            "GPUs físicas encontradas: 1\n",
            "  GPU 0: PhysicalDevice(name='/physical_device:GPU:0', device_type='GPU')\n",
            "\n",
            "Memory growth activado para PhysicalDevice(name='/physical_device:GPU:0', device_type='GPU')\n",
            "\n",
            "Información del build de TF:\n",
            "  cuda_version: 64_112\n",
            "  cudnn_version: 64_8\n",
            "\n",
            "Ejecutando prueba en GPU...\n",
            "✅ Multiplicación de matrices completada en GPU\n",
            "   Shape del resultado: (1000, 1000)\n"
          ]
        }
      ],
      "source": [
        "# Comprobación y configuración segura de GPU para TensorFlow (en español)\n",
        "# Esta celda: lista GPUs, activa memory growth, muestra info de build y hace una prueba rápida\n",
        "import sys\n",
        "import numpy as np\n",
        "import tensorflow as Tf\n",
        "import os\n",
        "\n",
        "# Información del entorno Python y TensorFlow\n",
        "print('Python:', sys.version.splitlines()[0])\n",
        "print('TensorFlow version:', Tf.__version__)\n",
        "print('TF built with CUDA:', Tf.test.is_built_with_cuda())\n",
        "\n",
        "# Verificar variables de entorno CUDA (útil para diagnóstico)\n",
        "cuda_visible = os.environ.get('CUDA_VISIBLE_DEVICES', 'No establecido')\n",
        "print('\\nCUDA_VISIBLE_DEVICES:', cuda_visible)\n",
        "\n",
        "# Listar GPUs físicas\n",
        "gpus = Tf.config.list_physical_devices('GPU')\n",
        "print('\\nGPUs físicas encontradas:', len(gpus))\n",
        "for i, g in enumerate(gpus):\n",
        "    print(f'  GPU {i}:', g)\n",
        "\n",
        "if len(gpus) == 0:\n",
        "    print('\\nNo se detectaron GPUs en TensorFlow. Verifica:')\n",
        "    print('1. nvidia-smi muestra la GPU')\n",
        "    print('2. Las DLLs de CUDA están en el PATH')\n",
        "    print('3. La versión de CUDA es compatible con TF 2.10')\n",
        "\n",
        "# Activar memory growth (debe hacerse antes de crear tensores)\n",
        "for gpu in gpus:\n",
        "    try:\n",
        "        Tf.config.experimental.set_memory_growth(gpu, True)\n",
        "        print('\\nMemory growth activado para', gpu)\n",
        "    except Exception as e:\n",
        "        print('\\nNo se pudo activar memory growth para', gpu, '->', e)\n",
        "\n",
        "# Mostrar información del build (CUDA/cuDNN si está disponible)\n",
        "try:\n",
        "    info = Tf.sysconfig.get_build_info()\n",
        "    print('\\nInformación del build de TF:')\n",
        "    print('  cuda_version:', info.get('cuda_version', 'No disponible'))\n",
        "    print('  cudnn_version:', info.get('cudnn_version', 'No disponible'))\n",
        "except Exception:\n",
        "    pass\n",
        "\n",
        "# Prueba rápida: multiplicación pequeña en GPU:0 (si existe)\n",
        "if len(gpus) > 0:\n",
        "    try:\n",
        "        with Tf.device('/GPU:0'):\n",
        "            print('\\nEjecutando prueba en GPU...')\n",
        "            a = Tf.constant(np.random.randn(1000, 1000), dtype=Tf.float32)\n",
        "            b = Tf.constant(np.random.randn(1000, 1000), dtype=Tf.float32)\n",
        "            c = Tf.matmul(a, b)\n",
        "            # Forzar ejecución\n",
        "            _ = c.numpy()\n",
        "        print('✅ Multiplicación de matrices completada en GPU')\n",
        "        print('   Shape del resultado:', c.shape)\n",
        "    except Exception as e:\n",
        "        print('❌ La prueba GPU falló:', e)\n",
        "else:\n",
        "    print('\\nSe omite la prueba GPU porque no se detectó GPU.')"
      ]
    },
    {
      "cell_type": "code",
      "execution_count": 15,
      "metadata": {},
      "outputs": [
        {
          "name": "stdout",
          "output_type": "stream",
          "text": [
            "Python executable: c:\\Users\\mateo\\AppData\\Local\\Programs\\Python\\Python39\\python.exe\n",
            "Python version: 3.9.13 (tags/v3.9.13:6de2ca5, May 17 2022, 16:36:42) [MSC v.1929 64 bit (AMD64)]\n",
            "\n",
            "TensorFlow version: 2.10.0\n",
            "GPU disponible: Sí\n",
            "\n",
            "CUDA built: True\n",
            "CUDA version: 64_112\n"
          ]
        }
      ],
      "source": [
        "import sys\n",
        "import tensorflow as tf\n",
        "\n",
        "# Verificar entorno Python\n",
        "print(\"Python executable:\", sys.executable)\n",
        "print(\"Python version:\", sys.version.splitlines()[0])\n",
        "\n",
        "# Verificar TensorFlow y GPU\n",
        "print(\"\\nTensorFlow version:\", tf.__version__)\n",
        "print(\"GPU disponible:\", \"Sí\" if tf.config.list_physical_devices('GPU') else \"No\")\n",
        "\n",
        "# Mostrar información CUDA\n",
        "print(\"\\nCUDA built:\", tf.test.is_built_with_cuda())\n",
        "try:\n",
        "    print(\"CUDA version:\", tf.sysconfig.get_build_info()['cuda_version'])\n",
        "except:\n",
        "    print(\"CUDA version: No disponible\")"
      ]
    },
    {
      "cell_type": "markdown",
      "metadata": {},
      "source": [
        "#Para notebooks con modelos grandes, considera usar:\n"
      ]
    },
    {
      "cell_type": "code",
      "execution_count": null,
      "metadata": {},
      "outputs": [],
      "source": [
        "mixed_precision = Tf.keras.mixed_precision.Policy('mixed_float16')\n",
        "Tf.keras.mixed_precision.set_global_policy(mixed_precision)"
      ]
    }
  ],
  "metadata": {
    "colab": {
      "collapsed_sections": [
        "icrGGZQg7Kb1"
      ],
      "provenance": []
    },
    "kernelspec": {
      "display_name": "Python 3",
      "language": "python",
      "name": "python3"
    },
    "language_info": {
      "codemirror_mode": {
        "name": "ipython",
        "version": 3
      },
      "file_extension": ".py",
      "mimetype": "text/x-python",
      "name": "python",
      "nbconvert_exporter": "python",
      "pygments_lexer": "ipython3",
      "version": "3.9.13"
    }
  },
  "nbformat": 4,
  "nbformat_minor": 0
}
