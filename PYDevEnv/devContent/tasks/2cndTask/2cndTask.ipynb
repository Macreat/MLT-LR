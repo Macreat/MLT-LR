{
  "cells": [
    {
      "cell_type": "markdown",
      "metadata": {},
      "source": [
        "# Vector projections "
      ]
    },
    {
      "cell_type": "markdown",
      "metadata": {},
      "source": [
        "## first sub task "
      ]
    },
    {
      "cell_type": "markdown",
      "metadata": {},
      "source": [
        "### Mathematical description and problem Setup\n"
      ]
    },
    {
      "cell_type": "markdown",
      "metadata": {},
      "source": [
        "Given two vectors $$ \\mathbf{a}, \\mathbf{b} \\in \\mathbb{R}^2 $$,  \n",
        "the **projection of** $$ \\mathbf{a} $$ **onto** $$ \\mathbf{b} $$ represents the component of $$ \\mathbf{a} $$ that lies along the direction of $$ \\mathbf{b} $$.  \n",
        "Geometrically, it is the *shadow* of $$ \\mathbf{a} $$ on the line defined by $$ \\mathbf{b} $$\n",
        "\n",
        "We compute this projection in two ways:\n",
        "\n",
        "1. **Analytical (closed form)** — from vector algebra.  \n",
        "2. **Gradient Descent (iterative)** — from minimizing a least-squares cost.\n",
        "\n",
        "Lets define it. \n"
      ]
    },
    {
      "cell_type": "markdown",
      "metadata": {},
      "source": [
        "###  Analytical projection (Closed form)"
      ]
    },
    {
      "cell_type": "markdown",
      "metadata": {},
      "source": [
        "\n",
        "####  Definition via Dot Product"
      ]
    },
    {
      "cell_type": "markdown",
      "metadata": {},
      "source": [
        "\n",
        "\n",
        "The projection of $$ \\mathbf{a} $$ onto $$ \\mathbf{b} $$ is given by:\n",
        "\n",
        "$$\n",
        "\\operatorname{proj}_{\\mathbf{b}}(\\mathbf{a})\n",
        "= \\frac{\\mathbf{a}\\cdot\\mathbf{b}}{\\mathbf{b}\\cdot\\mathbf{b}} \\, \\mathbf{b}, \n",
        "\\qquad \\text{for } \\mathbf{b}\\neq \\mathbf{0}.\n",
        "$$\n",
        "\n",
        "Where:\n",
        "\n",
        "- $$ \\mathbf{a}\\cdot\\mathbf{b} $$ → alignment between vectors.  \n",
        "- $$ \\mathbf{b}\\cdot\\mathbf{b} = \\|\\mathbf{b}\\|^2 $$ → squared magnitude of $$ \\mathbf{b} $$.  \n",
        "- Scalar coefficient:\n",
        "\n",
        "$$\n",
        "c^\\star = \\frac{\\mathbf{a}\\cdot\\mathbf{b}}{\\mathbf{b}\\cdot\\mathbf{b}}\n",
        "$$\n",
        "\n",
        "Hence:\n",
        "\n",
        "$$\n",
        "\\operatorname{proj}_{\\mathbf{b}}(\\mathbf{a}) = c^\\star \\mathbf{b}\n",
        "$$\n",
        "\n",
        " If $$ \\mathbf{b} = \\mathbf{0} $$, the projection is undefined (or zero by convention).\n",
        "\n"
      ]
    },
    {
      "cell_type": "markdown",
      "metadata": {},
      "source": [
        "####  Least-Squares Derivation\n",
        "\n"
      ]
    },
    {
      "cell_type": "markdown",
      "metadata": {},
      "source": [
        "We can derive the same result by minimizing:\n",
        "\n",
        "$$\n",
        "\\min_{c\\in\\mathbb{R}} \\; J(c) = \\|\\mathbf{a} - c\\mathbf{b}\\|^2\n",
        "$$\n",
        "\n",
        "Expanding the cost:\n",
        "\n",
        "$$\n",
        "J(c) = (\\mathbf{a}-c\\mathbf{b})^\\top(\\mathbf{a}-c\\mathbf{b})\n",
        "     = \\mathbf{a}^\\top\\mathbf{a} - 2c(\\mathbf{a}^\\top\\mathbf{b}) + c^2(\\mathbf{b}^\\top\\mathbf{b})\n",
        "$$\n",
        "\n",
        "Setting derivative to zero:\n",
        "\n",
        "$$\n",
        "\\frac{dJ}{dc} = -2(\\mathbf{a}\\cdot\\mathbf{b}) + 2c(\\mathbf{b}\\cdot\\mathbf{b}) = 0\n",
        "\\Rightarrow\n",
        "c^\\star = \\frac{\\mathbf{a}\\cdot\\mathbf{b}}{\\mathbf{b}\\cdot\\mathbf{b}}\n",
        "$$\n",
        "\n",
        "Got same solution as before."
      ]
    },
    {
      "cell_type": "markdown",
      "metadata": {},
      "source": [
        "####  Orthogonal Decomposition\n"
      ]
    },
    {
      "cell_type": "markdown",
      "metadata": {},
      "source": [
        "\n",
        "Let:\n",
        "\n",
        "$$\n",
        "\\mathbf{p} = \\operatorname{proj}_{\\mathbf{b}}(\\mathbf{a}) = c^\\star \\mathbf{b}\n",
        "$$\n",
        "\n",
        "$$\n",
        "\\mathbf{r} = \\mathbf{a} - \\mathbf{p}\n",
        "$$\n",
        "\n",
        "Then:\n",
        "\n",
        "$$\n",
        "\\mathbf{a} = \\mathbf{p} + \\mathbf{r}, \\quad \\mathbf{r}\\cdot\\mathbf{b} = 0\n",
        "$$\n",
        "\n",
        "That is, the residual $$ \\mathbf{r} $$ is **orthogonal** to $$ \\mathbf{b} $$.\n",
        "\n",
        "And by the Pythagorean theorem:\n",
        "\n",
        "$$\n",
        "\\|\\mathbf{a}\\|^2 = \\|\\mathbf{p}\\|^2 + \\|\\mathbf{r}\\|^2\n",
        "$$\n"
      ]
    },
    {
      "cell_type": "markdown",
      "metadata": {},
      "source": [
        "####  Angle Interpretation\n"
      ]
    },
    {
      "cell_type": "markdown",
      "metadata": {},
      "source": [
        "If $$ \\theta $$ is the angle between $$ \\mathbf{a} $$ and $$ \\mathbf{b} $$:\n",
        "\n",
        "$$\n",
        "\\mathbf{a}\\cdot\\mathbf{b} = \\|\\mathbf{a}\\|\\,\\|\\mathbf{b}\\|\\,\\cos\\theta\n",
        "\\Rightarrow\n",
        "c^\\star = \\frac{\\|\\mathbf{a}\\|\\cos\\theta}{\\|\\mathbf{b}\\|}\n",
        "$$\n",
        "\n",
        "Thus, the **length of the projection** is $$ \\|\\mathbf{a}\\|\\cos\\theta $$.\n"
      ]
    },
    {
      "cell_type": "markdown",
      "metadata": {},
      "source": [
        "### proceed with the gradiente descent algorithm\n"
      ]
    },
    {
      "cell_type": "markdown",
      "metadata": {},
      "source": [
        "####  Gradient descent formulation\n"
      ]
    },
    {
      "cell_type": "markdown",
      "metadata": {},
      "source": [
        "We minimize the same cost iteratively:\n",
        "\n",
        "$$\n",
        "J(c) = \\|\\mathbf{a} - c\\mathbf{b}\\|^2 \n",
        "= \\mathbf{a}^\\top\\mathbf{a} - 2c(\\mathbf{a}^\\top\\mathbf{b}) + c^2(\\mathbf{b}^\\top\\mathbf{b})\n",
        "$$\n"
      ]
    },
    {
      "cell_type": "markdown",
      "metadata": {},
      "source": [
        "#### Gradient and update rule\n"
      ]
    },
    {
      "cell_type": "markdown",
      "metadata": {},
      "source": [
        "\n",
        "\n",
        "Derivative:\n",
        "\n",
        "$$\n",
        "\\frac{dJ}{dc} = -2(\\mathbf{a}\\cdot\\mathbf{b}) + 2c(\\mathbf{b}\\cdot\\mathbf{b})\n",
        "$$\n",
        "\n",
        "Gradient descent update:\n",
        "\n",
        "$$\n",
        "c_{k+1} = c_k - \\eta \\frac{dJ}{dc}\n",
        "= c_k - \\eta[-2(\\mathbf{a}\\cdot\\mathbf{b}) + 2c_k(\\mathbf{b}\\cdot\\mathbf{b})]\n",
        "$$\n",
        "\n",
        "Simplified:\n",
        "\n",
        "$$\n",
        "c_{k+1} = (1 - 2\\eta\\|\\mathbf{b}\\|^2)c_k + 2\\eta(\\mathbf{a}\\cdot\\mathbf{b})\n",
        "$$\n",
        "\n",
        "At convergence:\n",
        "\n",
        "$$\n",
        "c^\\star = \\frac{\\mathbf{a}\\cdot\\mathbf{b}}{\\mathbf{b}\\cdot\\mathbf{b}}\n",
        "$$\n",
        "\n"
      ]
    },
    {
      "cell_type": "markdown",
      "metadata": {},
      "source": [
        "#### Convergence condition\n"
      ]
    },
    {
      "cell_type": "markdown",
      "metadata": {},
      "source": [
        "Convergence requires:\n",
        "\n",
        "$$\n",
        "0 < \\eta < \\frac{1}{\\|\\mathbf{b}\\|^2}\n",
        "$$\n",
        "\n",
        "A safer bound (from Lipschitz constant $$ L=2\\|\\mathbf{b}\\|^2 $$):\n",
        "\n",
        "$$\n",
        "0 < \\eta < \\frac{1}{2\\|\\mathbf{b}\\|^2}\n",
        "$$\n",
        "\n",
        "Convergence rate:\n",
        "\n",
        "$$\n",
        "|c_k - c^\\star| \\le \\rho^k |c_0 - c^\\star|, \\quad \\rho = |1 - 2\\eta\\|\\mathbf{b}\\|^2| < 1\n",
        "$$"
      ]
    },
    {
      "cell_type": "markdown",
      "metadata": {},
      "source": [
        "####  Practical Notes"
      ]
    },
    {
      "cell_type": "markdown",
      "metadata": {},
      "source": [
        "- Large $$ \\|\\mathbf{b}\\| $$ → use smaller $$ \\eta $$.  \n",
        "- Stop when $$ |c_{k+1}-c_k| < \\varepsilon $$ or cost stops decreasing.  \n",
        "- If $$ \\mathbf{b}=0 $$ → gradient vanishes → undefined projection."
      ]
    },
    {
      "cell_type": "markdown",
      "metadata": {},
      "source": [
        "### code implementation"
      ]
    },
    {
      "cell_type": "markdown",
      "metadata": {},
      "source": [
        "#### libraries "
      ]
    },
    {
      "cell_type": "markdown",
      "metadata": {},
      "source": [
        "on this case, simply use numpy and matplotlib to manage and plot data "
      ]
    },
    {
      "cell_type": "code",
      "execution_count": 3,
      "metadata": {},
      "outputs": [],
      "source": [
        "import numpy as np\n",
        "import matplotlib.pyplot as plt"
      ]
    },
    {
      "cell_type": "markdown",
      "metadata": {},
      "source": [
        "#### setting up vectors"
      ]
    },
    {
      "cell_type": "code",
      "execution_count": 4,
      "metadata": {},
      "outputs": [],
      "source": [
        "a = np.array([2.0, 7.0])   # vector being projected\n",
        "b = np.array([1.0, 2.0])   # direction (onto which 'a' is projected)\n"
      ]
    },
    {
      "cell_type": "markdown",
      "metadata": {},
      "source": [
        "see vectors on space: "
      ]
    },
    {
      "cell_type": "code",
      "execution_count": 5,
      "metadata": {},
      "outputs": [
        {
          "data": {
            "image/png": "[encoded data removed]",
            "text/plain": [
              "<Figure size 600x600 with 1 Axes>"
            ]
          },
          "metadata": {},
          "output_type": "display_data"
        },
        {
          "name": "stdout",
          "output_type": "stream",
          "text": [
            "a = [2. 7.]\n",
            "b = [1. 2.]\n"
          ]
        }
      ],
      "source": [
        "plt.figure(figsize=(6,6))\n",
        "plt.quiver(0, 0, a[0], a[1], angles='xy', scale_units='xy', scale=1, color='r', label='a')\n",
        "plt.quiver(0, 0, b[0], b[1], angles='xy', scale_units='xy', scale=1, color='b', label='b')\n",
        "plt.xlim(-1, max(a[0], b[0]) + 2)\n",
        "plt.ylim(-1, max(a[1], b[1]) + 2)\n",
        "plt.grid(True)\n",
        "plt.xlabel('X')\n",
        "plt.ylabel('Y')\n",
        "plt.legend()\n",
        "plt.title('Vectors a and b in 2D space')\n",
        "plt.show()\n",
        "\n",
        "\n",
        "\n",
        "print(\"a =\", a)\n",
        "print(\"b =\", b)\n"
      ]
    },
    {
      "cell_type": "markdown",
      "metadata": {},
      "source": [
        "also, we can precompute a basic dot product, that it's used by both methods"
      ]
    },
    {
      "cell_type": "code",
      "execution_count": 6,
      "metadata": {},
      "outputs": [
        {
          "name": "stdout",
          "output_type": "stream",
          "text": [
            "a·b = 16.0    b·b   = 5.0    ||b|| = 2.23606797749979\n"
          ]
        }
      ],
      "source": [
        "dot_ab = np.dot(a, b)      # a · b\n",
        "dot_bb = np.dot(b, b)      # b · b = ||b||^2\n",
        "norm_b = np.sqrt(dot_bb)   # ||b|| (used only for scalar-projection interpretation)\n",
        "\n",
        "print(\"a·b =\", dot_ab, \"   b·b   =\", dot_bb, \"   ||b|| =\", norm_b)"
      ]
    },
    {
      "cell_type": "markdown",
      "metadata": {},
      "source": [
        "#### analytical projection  (closed form)"
      ]
    },
    {
      "cell_type": "markdown",
      "metadata": {},
      "source": [
        "for the analytical scalar c* =  (a·b) / (b·b) , we evaluate the posible cases. (when b ==0, the projection is the zero vector)"
      ]
    },
    {
      "cell_type": "code",
      "execution_count": null,
      "metadata": {},
      "outputs": [],
      "source": [
        "if dot_bb == 0.0:\n",
        "    c_star = 0.0\n",
        "else:\n",
        "    c_star = dot_ab / dot_bb"
      ]
    },
    {
      "cell_type": "markdown",
      "metadata": {},
      "source": [
        "also, calculate the projected vector p* = c * b "
      ]
    },
    {
      "cell_type": "code",
      "execution_count": 11,
      "metadata": {},
      "outputs": [
        {
          "name": "stdout",
          "output_type": "stream",
          "text": [
            "Analytical scalar c* = 3.2\n",
            "Analytical projection p* = [3.2 6.4]\n"
          ]
        }
      ],
      "source": [
        "analyticalProjection = c_star * b \n",
        "# then print, the output\n",
        "print(\"Analytical scalar c* =\", c_star)\n",
        "print(\"Analytical projection p* =\", analyticalProjection)"
      ]
    },
    {
      "cell_type": "code",
      "execution_count": 14,
      "metadata": {},
      "outputs": [
        {
          "data": {
            "image/png": "[encoded data removed]",
            "text/plain": [
              "<Figure size 600x600 with 1 Axes>"
            ]
          },
          "metadata": {},
          "output_type": "display_data"
        }
      ],
      "source": [
        "plt.figure(figsize=(6,6))\n",
        "plt.quiver(0, 0, a[0], a[1], angles='xy', scale_units='xy', scale=1, color='r', label='a')\n",
        "plt.quiver(0, 0, analyticalProjection[0], analyticalProjection[1], angles='xy', scale_units='xy', scale=1, color='g', label='Analytical Projection')\n",
        "plt.quiver(0, 0, b[0], b[1], angles='xy', scale_units='xy', scale=1, color='b', label='b')\n",
        "plt.xlim(-1, max(a[0], analyticalProjection[0], b[0]) + 2)\n",
        "plt.ylim(-1, max(a[1], analyticalProjection[1], b[1]) + 2)\n",
        "plt.grid(True)\n",
        "plt.xlabel('X')\n",
        "plt.ylabel('Y')\n",
        "plt.legend()\n",
        "plt.title(f'Analytical scalar c* = {c_star:.2f}\\nProjection of a onto b')\n",
        "plt.show()"
      ]
    },
    {
      "cell_type": "markdown",
      "metadata": {},
      "source": [
        "besides, can calculate the scalar projection length along the unit-b direciton :  (a·b)/||b|| \n",
        "\n",
        "\n"
      ]
    },
    {
      "cell_type": "code",
      "execution_count": 15,
      "metadata": {},
      "outputs": [
        {
          "name": "stdout",
          "output_type": "stream",
          "text": [
            "Scalar projection length of a onto b (|a| cosθ) = 7.155417527999327\n"
          ]
        }
      ],
      "source": [
        "scalar_length_along_b = 0.0 if norm_b == 0.0 else dot_ab / norm_b\n",
        "print(\"Scalar projection length of a onto b (|a| cosθ) =\", scalar_length_along_b)"
      ]
    },
    {
      "cell_type": "markdown",
      "metadata": {},
      "source": [
        "then, we can visualize on space"
      ]
    },
    {
      "cell_type": "code",
      "execution_count": 17,
      "metadata": {},
      "outputs": [
        {
          "data": {
            "image/png": "[encoded data removed]",
            "text/plain": [
              "<Figure size 600x600 with 1 Axes>"
            ]
          },
          "metadata": {},
          "output_type": "display_data"
        }
      ],
      "source": [
        "plt.figure(figsize=(6,6))\n",
        "plt.quiver(0, 0, a[0], a[1], angles='xy', scale_units='xy', scale=1, color='r', label='a')\n",
        "plt.quiver(0, 0, b[0], b[1], angles='xy', scale_units='xy', scale=1, color='b', label='b')\n",
        "plt.quiver(0, 0, analyticalProjection[0], analyticalProjection[1], angles='xy', scale_units='xy', scale=1, color='g', label='Projection')\n",
        "plt.xlim(-1, max(a[0], analyticalProjection[0], b[0]) + 2)\n",
        "plt.ylim(-1, max(a[1], analyticalProjection[1], b[1]) + 2)\n",
        "plt.grid(True)\n",
        "plt.xlabel('X')\n",
        "plt.ylabel('Y')\n",
        "plt.legend()\n",
        "plt.title(f'Analytical scalar c* = {c_star:.2f}\\nProjection of a onto b\\nScalar projection length = {scalar_length_along_b:.2f}')\n",
        "plt.show()"
      ]
    },
    {
      "cell_type": "markdown",
      "metadata": {},
      "source": [
        "### Analytical vs gradient descent\n"
      ]
    },
    {
      "cell_type": "markdown",
      "metadata": {},
      "source": [
        "\n",
        "| Aspect | Analytical | Gradient Descent |\n",
        "|--------|-------------|------------------|\n",
        "| Method | Closed-form algebraic | Iterative numerical |\n",
        "| Formula | $$ c^\\star = \\frac{\\mathbf{a}\\cdot\\mathbf{b}}{\\mathbf{b}\\cdot\\mathbf{b}} $$ | $$ c_{k+1} = c_k - \\eta\\,\\frac{dJ}{dc} $$ |\n",
        "| Speed | Instant | Depends on $$ \\eta $$ |\n",
        "| Accuracy | Exact | Approximate (convergent) |\n",
        "| Insight | Geometric | Optimization-based |\n"
      ]
    },
    {
      "cell_type": "markdown",
      "metadata": {},
      "source": [
        " **Summary:**  \n",
        "This exercise connects **geometry**, **linear algebra**, and **optimization**,  \n",
        "showing that both analytical and iterative methods describe the same projection in different mathematical frameworks."
      ]
    },
    {
      "cell_type": "markdown",
      "metadata": {},
      "source": []
    },
    {
      "cell_type": "markdown",
      "metadata": {},
      "source": []
    },
    {
      "cell_type": "markdown",
      "metadata": {},
      "source": []
    }
  ],
  "metadata": {
    "colab": {
      "provenance": []
    },
    "kernelspec": {
      "display_name": "PYDevEnv",
      "language": "python",
      "name": "python3"
    },
    "language_info": {
      "codemirror_mode": {
        "name": "ipython",
        "version": 3
      },
      "file_extension": ".py",
      "mimetype": "text/x-python",
      "name": "python",
      "nbconvert_exporter": "python",
      "pygments_lexer": "ipython3",
      "version": "3.9.13"
    }
  },
  "nbformat": 4,
  "nbformat_minor": 0
}
