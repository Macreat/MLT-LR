{
 "cells": [
  {
   "cell_type": "markdown",
   "metadata": {},
   "source": [
    "basis GPU configuration"
   ]
  },
  {
   "cell_type": "markdown",
   "metadata": {},
   "source": [
    " libraries and env configuration \n"
   ]
  },
  {
   "cell_type": "code",
   "execution_count": 1,
   "metadata": {},
   "outputs": [],
   "source": [
    "#packages from tensor flow\n",
    "import tensorflow as Tf\n",
    "\n",
    "# tensor flow for optimizing the model \n",
    "\n",
    "\n",
    "# basis packages \n",
    "import os as os \n",
    "import matplotlib.pyplot as plt\n",
    "import numpy as np\n",
    "import scipy \n",
    "import ssl"
   ]
  },
  {
   "cell_type": "markdown",
   "metadata": {},
   "source": [
    "## Verificación del Entorno\n",
    "Primero verificamos que estamos usando el entorno correcto y tiene TensorFlow-GPU"
   ]
  },
  {
   "cell_type": "markdown",
   "metadata": {},
   "source": [
    "## Verificar versión de TensorFlow y configuración"
   ]
  },
  {
   "cell_type": "code",
   "execution_count": 5,
   "metadata": {},
   "outputs": [
    {
     "name": "stdout",
     "output_type": "stream",
     "text": [
      "TensorFlow version: 2.10.0\n",
      "Python version: 3.9.13 (tags/v3.9.13:6de2ca5, May 17 2022, 16:36:42) [MSC v.1929 64 bit (AMD64)]\n",
      "\n",
      "Compilado con CUDA: True\n",
      "Compilado con ROCm: False\n",
      "\n",
      "Información detallada del build:\n",
      "cpu_compiler: C:/Program Files (x86)/Microsoft Visual Studio/2019/Community/VC/Tools/MSVC/14.29.30133/bin/HostX64/x64/cl.exe\n",
      "cuda_compute_capabilities: ['sm_35', 'sm_50', 'sm_60', 'sm_70', 'sm_75', 'compute_80']\n",
      "cuda_version: 64_112\n",
      "cudart_dll_name: cudart64_112.dll\n",
      "cudnn_dll_name: cudnn64_8.dll\n",
      "cudnn_version: 64_8\n",
      "is_cuda_build: True\n",
      "is_rocm_build: False\n",
      "is_tensorrt_build: False\n",
      "msvcp_dll_names: msvcp140.dll,msvcp140_1.dll\n",
      "nvcuda_dll_name: nvcuda.dll\n",
      "\n",
      "Dispositivos disponibles:\n",
      "PhysicalDevice(name='/physical_device:CPU:0', device_type='CPU')\n",
      "PhysicalDevice(name='/physical_device:GPU:0', device_type='GPU')\n"
     ]
    }
   ],
   "source": [
    "import tensorflow as tf\n",
    "import sys\n",
    "\n",
    "# Información detallada de versiones\n",
    "print(\"TensorFlow version:\", tf.__version__)\n",
    "print(\"Python version:\", sys.version)\n",
    "\n",
    "# Información de compilación\n",
    "print(\"\\nCompilado con CUDA:\", tf.test.is_built_with_cuda())\n",
    "print(\"Compilado con ROCm:\", tf.test.is_built_with_rocm())\n",
    "\n",
    "# Información detallada del build\n",
    "build_info = tf.sysconfig.get_build_info()\n",
    "print(\"\\nInformación detallada del build:\")\n",
    "for key, value in build_info.items():\n",
    "    print(f\"{key}: {value}\")\n",
    "\n",
    "# Dispositivos disponibles\n",
    "print(\"\\nDispositivos disponibles:\")\n",
    "for device in tf.config.list_physical_devices():\n",
    "    print(device)"
   ]
  },
  {
   "cell_type": "markdown",
   "metadata": {},
   "source": [
    "## Verificar versiones de CUDA\n",
    "Comprobamos tanto la versión del sistema como la que usa TensorFlow"
   ]
  },
  {
   "cell_type": "code",
   "execution_count": 6,
   "metadata": {},
   "outputs": [
    {
     "name": "stdout",
     "output_type": "stream",
     "text": [
      "=== CUDA del Sistema ===\n",
      "| NVIDIA-SMI 581.29                 Driver Version: 581.29         CUDA Version: 13.0     |\n",
      "\n",
      "=== Variables de entorno CUDA ===\n",
      "CUDA_PATH: C:\\Program Files\\NVIDIA GPU Computing Toolkit\\CUDA\\v11.5\n",
      "CUDA_HOME: No establecido\n",
      "\n",
      "=== CUDA en TensorFlow ===\n",
      "TensorFlow compilado con CUDA: True\n",
      "CUDA version (TF build): 64_112\n",
      "cuDNN version (TF build): 64_8\n"
     ]
    }
   ],
   "source": [
    "import os\n",
    "import subprocess\n",
    "import tensorflow as tf\n",
    "\n",
    "def get_nvidia_smi_output():\n",
    "    try:\n",
    "        result = subprocess.run(['nvidia-smi'], capture_output=True, text=True)\n",
    "        return result.stdout\n",
    "    except:\n",
    "        return \"No se pudo ejecutar nvidia-smi\"\n",
    "\n",
    "# 1. Versión CUDA del sistema\n",
    "print(\"=== CUDA del Sistema ===\")\n",
    "nvidia_output = get_nvidia_smi_output()\n",
    "if \"CUDA Version\" in nvidia_output:\n",
    "    cuda_line = [line for line in nvidia_output.split('\\n') if \"CUDA Version\" in line][0]\n",
    "    print(cuda_line.strip())\n",
    "else:\n",
    "    print(\"No se pudo detectar la versión de CUDA del sistema\")\n",
    "\n",
    "# 2. Variables de entorno CUDA\n",
    "print(\"\\n=== Variables de entorno CUDA ===\")\n",
    "cuda_path = os.environ.get('CUDA_PATH', 'No establecido')\n",
    "cuda_home = os.environ.get('CUDA_HOME', 'No establecido')\n",
    "print(f\"CUDA_PATH: {cuda_path}\")\n",
    "print(f\"CUDA_HOME: {cuda_home}\")\n",
    "\n",
    "# 3. Versión CUDA que usa TensorFlow\n",
    "print(\"\\n=== CUDA en TensorFlow ===\")\n",
    "print(f\"TensorFlow compilado con CUDA: {tf.test.is_built_with_cuda()}\")\n",
    "try:\n",
    "    build_info = tf.sysconfig.get_build_info()\n",
    "    print(f\"CUDA version (TF build): {build_info.get('cuda_version', 'No disponible')}\")\n",
    "    print(f\"cuDNN version (TF build): {build_info.get('cudnn_version', 'No disponible')}\")\n",
    "except:\n",
    "    print(\"No se pudo obtener información del build de TensorFlow\")"
   ]
  }
 ],
 "metadata": {
  "colab": {
   "collapsed_sections": [
    "icrGGZQg7Kb1"
   ],
   "provenance": []
  },
  "kernelspec": {
   "display_name": "PYDevEnv",
   "language": "python",
   "name": "python3"
  },
  "language_info": {
   "codemirror_mode": {
    "name": "ipython",
    "version": 3
   },
   "file_extension": ".py",
   "mimetype": "text/x-python",
   "name": "python",
   "nbconvert_exporter": "python",
   "pygments_lexer": "ipython3",
   "version": "3.9.13"
  }
 },
 "nbformat": 4,
 "nbformat_minor": 0
}
