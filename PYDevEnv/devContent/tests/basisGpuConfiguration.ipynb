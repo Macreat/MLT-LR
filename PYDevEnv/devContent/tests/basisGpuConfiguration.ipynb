{
 "cells": [
  {
   "cell_type": "markdown",
   "metadata": {},
   "source": [
    "basis GPU configuration"
   ]
  },
  {
   "cell_type": "markdown",
   "metadata": {},
   "source": [
    " libraries and env configuration \n"
   ]
  },
  {
   "cell_type": "code",
   "execution_count": 1,
   "metadata": {},
   "outputs": [],
   "source": [
    "#packages from tensor flow\n",
    "import tensorflow as Tf\n",
    "\n",
    "# tensor flow for optimizing the model \n",
    "\n",
    "\n",
    "# basis packages \n",
    "import os as os \n",
    "import matplotlib.pyplot as plt\n",
    "import numpy as np\n",
    "import scipy \n",
    "import ssl"
   ]
  },
  {
   "cell_type": "code",
   "execution_count": 2,
   "metadata": {},
   "outputs": [
    {
     "name": "stdout",
     "output_type": "stream",
     "text": [
      "Python: 3.9.13 (tags/v3.9.13:6de2ca5, May 17 2022, 16:36:42) [MSC v.1929 64 bit (AMD64)]\n",
      "TensorFlow version: 2.10.0\n",
      "TF built with CUDA: True\n",
      "\n",
      "CUDA_VISIBLE_DEVICES: No establecido\n",
      "\n",
      "GPUs físicas encontradas: 1\n",
      "  GPU 0: PhysicalDevice(name='/physical_device:GPU:0', device_type='GPU')\n",
      "\n",
      "Memory growth activado para PhysicalDevice(name='/physical_device:GPU:0', device_type='GPU')\n",
      "\n",
      "Información del build de TF:\n",
      "  cuda_version: 64_112\n",
      "  cudnn_version: 64_8\n",
      "\n",
      "Ejecutando prueba en GPU...\n",
      "✅ Multiplicación de matrices completada en GPU\n",
      "   Shape del resultado: (1000, 1000)\n"
     ]
    }
   ],
   "source": [
    "# Comprobación y configuración segura de GPU para TensorFlow (en español)\n",
    "# Esta celda: lista GPUs, activa memory growth, muestra info de build y hace una prueba rápida\n",
    "import sys\n",
    "import numpy as np\n",
    "import tensorflow as Tf\n",
    "import os\n",
    "\n",
    "# Información del entorno Python y TensorFlow\n",
    "print('Python:', sys.version.splitlines()[0])\n",
    "print('TensorFlow version:', Tf.__version__)\n",
    "print('TF built with CUDA:', Tf.test.is_built_with_cuda())\n",
    "\n",
    "# Verificar variables de entorno CUDA (útil para diagnóstico)\n",
    "cuda_visible = os.environ.get('CUDA_VISIBLE_DEVICES', 'No establecido')\n",
    "print('\\nCUDA_VISIBLE_DEVICES:', cuda_visible)\n",
    "\n",
    "# Listar GPUs físicas\n",
    "gpus = Tf.config.list_physical_devices('GPU')\n",
    "print('\\nGPUs físicas encontradas:', len(gpus))\n",
    "for i, g in enumerate(gpus):\n",
    "    print(f'  GPU {i}:', g)\n",
    "\n",
    "if len(gpus) == 0:\n",
    "    print('\\nNo se detectaron GPUs en TensorFlow. Verifica:')\n",
    "    print('1. nvidia-smi muestra la GPU')\n",
    "    print('2. Las DLLs de CUDA están en el PATH')\n",
    "    print('3. La versión de CUDA es compatible con TF 2.10')\n",
    "\n",
    "# Activar memory growth (debe hacerse antes de crear tensores)\n",
    "for gpu in gpus:\n",
    "    try:\n",
    "        Tf.config.experimental.set_memory_growth(gpu, True)\n",
    "        print('\\nMemory growth activado para', gpu)\n",
    "    except Exception as e:\n",
    "        print('\\nNo se pudo activar memory growth para', gpu, '->', e)\n",
    "\n",
    "# Mostrar información del build (CUDA/cuDNN si está disponible)\n",
    "try:\n",
    "    info = Tf.sysconfig.get_build_info()\n",
    "    print('\\nInformación del build de TF:')\n",
    "    print('  cuda_version:', info.get('cuda_version', 'No disponible'))\n",
    "    print('  cudnn_version:', info.get('cudnn_version', 'No disponible'))\n",
    "except Exception:\n",
    "    pass\n",
    "\n",
    "# Prueba rápida: multiplicación pequeña en GPU:0 (si existe)\n",
    "if len(gpus) > 0:\n",
    "    try:\n",
    "        with Tf.device('/GPU:0'):\n",
    "            print('\\nEjecutando prueba en GPU...')\n",
    "            a = Tf.constant(np.random.randn(1000, 1000), dtype=Tf.float32)\n",
    "            b = Tf.constant(np.random.randn(1000, 1000), dtype=Tf.float32)\n",
    "            c = Tf.matmul(a, b)\n",
    "            # Forzar ejecución\n",
    "            _ = c.numpy()\n",
    "        print('✅ Multiplicación de matrices completada en GPU')\n",
    "        print('   Shape del resultado:', c.shape)\n",
    "    except Exception as e:\n",
    "        print('❌ La prueba GPU falló:', e)\n",
    "else:\n",
    "    print('\\nSe omite la prueba GPU porque no se detectó GPU.')"
   ]
  },
  {
   "cell_type": "code",
   "execution_count": 3,
   "metadata": {},
   "outputs": [],
   "source": [
    "os.environ[\"TF_CPP_MIN_LOG_LEVEL\"] = '2' # Suppress TensorFlow logging (1)\t"
   ]
  },
  {
   "cell_type": "markdown",
   "metadata": {},
   "source": [
    "## Verificación del Entorno\n",
    "Primero verificamos que estamos usando el entorno correcto y tiene TensorFlow-GPU"
   ]
  },
  {
   "cell_type": "code",
   "execution_count": 4,
   "metadata": {},
   "outputs": [
    {
     "name": "stdout",
     "output_type": "stream",
     "text": [
      "Python executable: c:\\Users\\mateo\\AppData\\Local\\Programs\\Python\\Python39\\python.exe\n",
      "Python version: 3.9.13 (tags/v3.9.13:6de2ca5, May 17 2022, 16:36:42) [MSC v.1929 64 bit (AMD64)]\n",
      "\n",
      "TensorFlow version: 2.10.0\n",
      "GPU disponible: Sí\n",
      "\n",
      "CUDA built: True\n",
      "CUDA version: 64_112\n"
     ]
    }
   ],
   "source": [
    "import sys\n",
    "import tensorflow as tf\n",
    "\n",
    "# Verificar entorno Python\n",
    "print(\"Python executable:\", sys.executable)\n",
    "print(\"Python version:\", sys.version.splitlines()[0])\n",
    "\n",
    "# Verificar TensorFlow y GPU\n",
    "print(\"\\nTensorFlow version:\", tf.__version__)\n",
    "print(\"GPU disponible:\", \"Sí\" if tf.config.list_physical_devices('GPU') else \"No\")\n",
    "\n",
    "# Mostrar información CUDA\n",
    "print(\"\\nCUDA built:\", tf.test.is_built_with_cuda())\n",
    "try:\n",
    "    print(\"CUDA version:\", tf.sysconfig.get_build_info()['cuda_version'])\n",
    "except:\n",
    "    print(\"CUDA version: No disponible\")"
   ]
  },
  {
   "cell_type": "markdown",
   "metadata": {},
   "source": [
    "## Verificar versión de TensorFlow y configuración"
   ]
  },
  {
   "cell_type": "code",
   "execution_count": 5,
   "metadata": {},
   "outputs": [
    {
     "name": "stdout",
     "output_type": "stream",
     "text": [
      "TensorFlow version: 2.10.0\n",
      "Python version: 3.9.13 (tags/v3.9.13:6de2ca5, May 17 2022, 16:36:42) [MSC v.1929 64 bit (AMD64)]\n",
      "\n",
      "Compilado con CUDA: True\n",
      "Compilado con ROCm: False\n",
      "\n",
      "Información detallada del build:\n",
      "cpu_compiler: C:/Program Files (x86)/Microsoft Visual Studio/2019/Community/VC/Tools/MSVC/14.29.30133/bin/HostX64/x64/cl.exe\n",
      "cuda_compute_capabilities: ['sm_35', 'sm_50', 'sm_60', 'sm_70', 'sm_75', 'compute_80']\n",
      "cuda_version: 64_112\n",
      "cudart_dll_name: cudart64_112.dll\n",
      "cudnn_dll_name: cudnn64_8.dll\n",
      "cudnn_version: 64_8\n",
      "is_cuda_build: True\n",
      "is_rocm_build: False\n",
      "is_tensorrt_build: False\n",
      "msvcp_dll_names: msvcp140.dll,msvcp140_1.dll\n",
      "nvcuda_dll_name: nvcuda.dll\n",
      "\n",
      "Dispositivos disponibles:\n",
      "PhysicalDevice(name='/physical_device:CPU:0', device_type='CPU')\n",
      "PhysicalDevice(name='/physical_device:GPU:0', device_type='GPU')\n"
     ]
    }
   ],
   "source": [
    "import tensorflow as tf\n",
    "import sys\n",
    "\n",
    "# Información detallada de versiones\n",
    "print(\"TensorFlow version:\", tf.__version__)\n",
    "print(\"Python version:\", sys.version)\n",
    "\n",
    "# Información de compilación\n",
    "print(\"\\nCompilado con CUDA:\", tf.test.is_built_with_cuda())\n",
    "print(\"Compilado con ROCm:\", tf.test.is_built_with_rocm())\n",
    "\n",
    "# Información detallada del build\n",
    "build_info = tf.sysconfig.get_build_info()\n",
    "print(\"\\nInformación detallada del build:\")\n",
    "for key, value in build_info.items():\n",
    "    print(f\"{key}: {value}\")\n",
    "\n",
    "# Dispositivos disponibles\n",
    "print(\"\\nDispositivos disponibles:\")\n",
    "for device in tf.config.list_physical_devices():\n",
    "    print(device)"
   ]
  },
  {
   "cell_type": "markdown",
   "metadata": {},
   "source": [
    "## Verificar versiones de CUDA\n",
    "Comprobamos tanto la versión del sistema como la que usa TensorFlow"
   ]
  },
  {
   "cell_type": "code",
   "execution_count": 6,
   "metadata": {},
   "outputs": [
    {
     "name": "stdout",
     "output_type": "stream",
     "text": [
      "=== CUDA del Sistema ===\n",
      "| NVIDIA-SMI 581.29                 Driver Version: 581.29         CUDA Version: 13.0     |\n",
      "\n",
      "=== Variables de entorno CUDA ===\n",
      "CUDA_PATH: C:\\Program Files\\NVIDIA GPU Computing Toolkit\\CUDA\\v11.5\n",
      "CUDA_HOME: No establecido\n",
      "\n",
      "=== CUDA en TensorFlow ===\n",
      "TensorFlow compilado con CUDA: True\n",
      "CUDA version (TF build): 64_112\n",
      "cuDNN version (TF build): 64_8\n"
     ]
    }
   ],
   "source": [
    "import os\n",
    "import subprocess\n",
    "import tensorflow as tf\n",
    "\n",
    "def get_nvidia_smi_output():\n",
    "    try:\n",
    "        result = subprocess.run(['nvidia-smi'], capture_output=True, text=True)\n",
    "        return result.stdout\n",
    "    except:\n",
    "        return \"No se pudo ejecutar nvidia-smi\"\n",
    "\n",
    "# 1. Versión CUDA del sistema\n",
    "print(\"=== CUDA del Sistema ===\")\n",
    "nvidia_output = get_nvidia_smi_output()\n",
    "if \"CUDA Version\" in nvidia_output:\n",
    "    cuda_line = [line for line in nvidia_output.split('\\n') if \"CUDA Version\" in line][0]\n",
    "    print(cuda_line.strip())\n",
    "else:\n",
    "    print(\"No se pudo detectar la versión de CUDA del sistema\")\n",
    "\n",
    "# 2. Variables de entorno CUDA\n",
    "print(\"\\n=== Variables de entorno CUDA ===\")\n",
    "cuda_path = os.environ.get('CUDA_PATH', 'No establecido')\n",
    "cuda_home = os.environ.get('CUDA_HOME', 'No establecido')\n",
    "print(f\"CUDA_PATH: {cuda_path}\")\n",
    "print(f\"CUDA_HOME: {cuda_home}\")\n",
    "\n",
    "# 3. Versión CUDA que usa TensorFlow\n",
    "print(\"\\n=== CUDA en TensorFlow ===\")\n",
    "print(f\"TensorFlow compilado con CUDA: {tf.test.is_built_with_cuda()}\")\n",
    "try:\n",
    "    build_info = tf.sysconfig.get_build_info()\n",
    "    print(f\"CUDA version (TF build): {build_info.get('cuda_version', 'No disponible')}\")\n",
    "    print(f\"cuDNN version (TF build): {build_info.get('cudnn_version', 'No disponible')}\")\n",
    "except:\n",
    "    print(\"No se pudo obtener información del build de TensorFlow\")"
   ]
  }
 ],
 "metadata": {
  "colab": {
   "collapsed_sections": [
    "icrGGZQg7Kb1"
   ],
   "provenance": []
  },
  "kernelspec": {
   "display_name": "Python 3",
   "language": "python",
   "name": "python3"
  },
  "language_info": {
   "codemirror_mode": {
    "name": "ipython",
    "version": 3
   },
   "file_extension": ".py",
   "mimetype": "text/x-python",
   "name": "python",
   "nbconvert_exporter": "python",
   "pygments_lexer": "ipython3",
   "version": "3.9.13"
  }
 },
 "nbformat": 4,
 "nbformat_minor": 0
}
