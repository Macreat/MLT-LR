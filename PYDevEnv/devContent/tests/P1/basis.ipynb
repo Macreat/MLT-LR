{
  "cells": [
    {
      "cell_type": "markdown",
      "metadata": {},
      "source": [
        "# PARCIAL 1 TAM (Teoría de Aprendizaje de Máquina)\n",
        "\n",
        "\n"
      ]
    },
    {
      "cell_type": "markdown",
      "metadata": {},
      "source": [
        "## Ej 1 \n"
      ]
    },
    {
      "cell_type": "markdown",
      "metadata": {},
      "source": [
        "Dado el modelo de regresion : \n",
        "\n",
        "tn = \n",
        "𝜙\n",
        "(\n",
        "𝑥\n",
        "𝑛\n",
        ")\n",
        "⊤\n",
        "𝑤\n",
        "+\n",
        "𝜂\n",
        "𝑛\n",
        "t \n",
        "n\n",
        "​\n",
        " =ϕ(x \n",
        "n\n",
        "​\n",
        " ) \n",
        "⊤\n",
        " w+η \n",
        "n\n",
        "​\n",
        " , con \n",
        "𝜂\n",
        "𝑛\n",
        "∼\n",
        "𝑁\n",
        "(\n",
        "0\n",
        ",\n",
        "𝜎\n",
        "2\n",
        ")\n",
        "η \n",
        "n\n",
        "​\n",
        " ∼N(0,σ \n",
        "2\n",
        " )\n",
        "\n",
        "\n",
        "Presentamos la inferencia o problema de optimización para los siguientes casos asumiendo datos i.i.d : \n"
      ]
    },
    {
      "cell_type": "markdown",
      "metadata": {},
      "source": [
        "### MÍNIMOS CUADRADOS (OLS)"
      ]
    },
    {
      "cell_type": "code",
      "execution_count": null,
      "metadata": {},
      "outputs": [],
      "source": []
    },
    {
      "cell_type": "markdown",
      "metadata": {},
      "source": [
        "### MÍNIMOS CUADRADOS REGULARIZADOS "
      ]
    },
    {
      "cell_type": "code",
      "execution_count": null,
      "metadata": {},
      "outputs": [],
      "source": []
    },
    {
      "cell_type": "markdown",
      "metadata": {},
      "source": [
        "### MÁXIMA VEROSIMILITUD "
      ]
    },
    {
      "cell_type": "markdown",
      "metadata": {},
      "source": [
        "### MÁXIMO A POSTERIORI (MAP)"
      ]
    },
    {
      "cell_type": "markdown",
      "metadata": {},
      "source": [
        "### MODELO BAYESIANO LINEAL GAUSSIANO "
      ]
    },
    {
      "cell_type": "markdown",
      "metadata": {},
      "source": [
        "### REGRESIÓN RÍGIDA KERNEL"
      ]
    },
    {
      "cell_type": "markdown",
      "metadata": {},
      "source": [
        "### PROCESOS GAUSIANOS (GP)"
      ]
    },
    {
      "cell_type": "markdown",
      "metadata": {},
      "source": [
        "### Finalmente discutimos similitudes y diferencias:  "
      ]
    },
    {
      "cell_type": "markdown",
      "metadata": {},
      "source": [
        "## EJ 2"
      ]
    },
    {
      "cell_type": "markdown",
      "metadata": {},
      "source": []
    },
    {
      "cell_type": "markdown",
      "metadata": {},
      "source": [
        "# END NB\n",
        "Cristhian Mateo Almeida Gómez\n",
        "\n",
        "\n",
        "\n",
        "presentado al profesor Andrés Marino Alvarez Meza. "
      ]
    }
  ],
  "metadata": {
    "colab": {
      "provenance": []
    },
    "kernelspec": {
      "display_name": "DevelopTamEnv",
      "language": "python",
      "name": "python3"
    },
    "language_info": {
      "codemirror_mode": {
        "name": "ipython",
        "version": 3
      },
      "file_extension": ".py",
      "mimetype": "text/x-python",
      "name": "python",
      "nbconvert_exporter": "python",
      "pygments_lexer": "ipython3",
      "version": "3.9.13"
    }
  },
  "nbformat": 4,
  "nbformat_minor": 0
}
